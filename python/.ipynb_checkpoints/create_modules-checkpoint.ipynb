{
 "cells": [
  {
   "cell_type": "code",
   "execution_count": null,
   "metadata": {},
   "outputs": [],
   "source": [
    "from RHoMIS import Module, Modules, Category, SDG"
   ]
  },
  {
   "cell_type": "code",
   "execution_count": null,
   "metadata": {},
   "outputs": [],
   "source": [
    "modules = Modules()"
   ]
  },
  {
   "cell_type": "code",
   "execution_count": null,
   "metadata": {},
   "outputs": [],
   "source": [
    "modules.add_sdg(SDG(number=1, description=\"NO POVERTY\", logo=\"sdg01.svg\", color=\"#ec162f\"))"
   ]
  },
  {
   "cell_type": "code",
   "execution_count": null,
   "metadata": {},
   "outputs": [],
   "source": [
    "modules.add_sdg(SDG(number=2, description=\"ZERO HUNGER\", logo=\"sdg02.svg\", color=\"#d59d35\"))"
   ]
  },
  {
   "cell_type": "code",
   "execution_count": null,
   "metadata": {},
   "outputs": [],
   "source": [
    "modules.add_sdg(SDG(number=3, description=\"GOOD HEALTH AND WELL-BEING\", logo=\"sdg03.svg\", color=\"#2a9b50\"))"
   ]
  },
  {
   "cell_type": "code",
   "execution_count": null,
   "metadata": {},
   "outputs": [],
   "source": [
    "modules.add_sdg(SDG(number=4, description=\"QUALITY EDUCATION\", logo=\"sdg04.svg\", color=\"#c91937\"))"
   ]
  },
  {
   "cell_type": "code",
   "execution_count": null,
   "metadata": {},
   "outputs": [],
   "source": [
    "modules.add_sdg(SDG(number=5, description=\"GENDER EQUALITY\", logo=\"sdg05.svg\", color=\"#f53d2d\"))"
   ]
  },
  {
   "cell_type": "code",
   "execution_count": null,
   "metadata": {},
   "outputs": [],
   "source": [
    "modules.add_sdg(SDG(number=6, description=\"CLEAN WATER AND SANITATION\", logo=\"sdg06.svg\", color=\"#00b1d6\"))"
   ]
  },
  {
   "cell_type": "code",
   "execution_count": null,
   "metadata": {},
   "outputs": [],
   "source": [
    "modules.add_sdg(SDG(number=7, description=\"AFFORDABLE AND CLEAN ENERGY\", logo=\"sdg07.svg\", color=\"#ffb32e\"))"
   ]
  },
  {
   "cell_type": "code",
   "execution_count": null,
   "metadata": {},
   "outputs": [],
   "source": [
    "modules.add_sdg(SDG(number=8, description=\"DECENT WORK AND ECONOMIC GROWTH\", logo=\"sdg08.svg\", color=\"#91193a\"))"
   ]
  },
  {
   "cell_type": "code",
   "execution_count": null,
   "metadata": {},
   "outputs": [],
   "source": [
    "modules.add_sdg(SDG(number=9, description=\"INDUSTRY, INNOVATION AND INFRASTRUCTURE\", logo=\"sdg09.svg\", color=\"#f66b2e\"))"
   ]
  },
  {
   "cell_type": "code",
   "execution_count": null,
   "metadata": {},
   "outputs": [],
   "source": [
    "modules.add_sdg(SDG(number=10, description=\"REDUCED INEQUALITIES\", logo=\"sdg10.svg\", color=\"#e01b81\"))"
   ]
  },
  {
   "cell_type": "code",
   "execution_count": null,
   "metadata": {},
   "outputs": [],
   "source": [
    "modules.add_sdg(SDG(number=11, description=\"SUSTAINABLE CITIES AND COMMUNITIES\", logo=\"sdg11.svg\", color=\"#fb9c35\"))"
   ]
  },
  {
   "cell_type": "code",
   "execution_count": null,
   "metadata": {},
   "outputs": [],
   "source": [
    "modules.add_sdg(SDG(number=12, description=\"RESPONSIBLE PRODUCTION AND CONSUMPTION\", logo=\"sdg12.svg\", color=\"#d08a35\"))"
   ]
  },
  {
   "cell_type": "code",
   "execution_count": null,
   "metadata": {},
   "outputs": [],
   "source": [
    "modules.add_sdg(SDG(number=13, description=\"CLIMATE ACTION\", logo=\"sdg13.svg\", color=\"#4b7440\"))"
   ]
  },
  {
   "cell_type": "code",
   "execution_count": null,
   "metadata": {},
   "outputs": [],
   "source": [
    "modules.add_sdg(SDG(number=14, description=\"LIFE BELOW WATER\", logo=\"sdg14.svg\", color=\"#007fc1\"))"
   ]
  },
  {
   "cell_type": "code",
   "execution_count": null,
   "metadata": {},
   "outputs": [],
   "source": [
    "modules.add_sdg(SDG(number=15, description=\"LIFE ON LAND\", logo=\"sdg15.svg\", color=\"#40ae50\"))"
   ]
  },
  {
   "cell_type": "code",
   "execution_count": null,
   "metadata": {},
   "outputs": [],
   "source": [
    "modules.add_sdg(SDG(number=16, description=\"PEACE, JUSTICE AND STRONG INSTITUTIONS\", logo=\"sdg16.svg\", color=\"#00588a\"))"
   ]
  },
  {
   "cell_type": "code",
   "execution_count": null,
   "metadata": {},
   "outputs": [],
   "source": [
    "modules.add_sdg(SDG(number=17, description=\"PARTNERSHIPS FOR THE GOALS\", logo=\"sdg17.svg\", color=\"#113863\"))"
   ]
  },
  {
   "cell_type": "code",
   "execution_count": null,
   "metadata": {},
   "outputs": [],
   "source": [
    "modules.add_category(Category(name=\"DECISION MAKING\", color=\"#1c458c\"))"
   ]
  },
  {
   "cell_type": "code",
   "execution_count": null,
   "metadata": {},
   "outputs": [],
   "source": [
    "modules.add_category(Category(name=\"METADATA\", color=\"#782226\"))"
   ]
  },
  {
   "cell_type": "code",
   "execution_count": null,
   "metadata": {},
   "outputs": [],
   "source": [
    "modules.add_category(Category(name=\"GENDER\", color=\"#c6599e\"))"
   ]
  },
  {
   "cell_type": "code",
   "execution_count": null,
   "metadata": {},
   "outputs": [],
   "source": [
    "modules.add_category(Category(name=\"ON FARM\", color=\"#e9af35\"))"
   ]
  },
  {
   "cell_type": "code",
   "execution_count": null,
   "metadata": {},
   "outputs": [],
   "source": [
    "modules.add_category(Category(name=\"FOOD\", color=\"#f56937\"))"
   ]
  },
  {
   "cell_type": "code",
   "execution_count": null,
   "metadata": {},
   "outputs": [],
   "source": [
    "modules.add_category(Category(name=\"TREES\", color=\"#01a075\"))"
   ]
  },
  {
   "cell_type": "code",
   "execution_count": null,
   "metadata": {},
   "outputs": [],
   "source": [
    "modules.add_category(Category(name=\"POVERTY DYNAMICS\", color=\"#d31f2b\"))"
   ]
  },
  {
   "cell_type": "code",
   "execution_count": null,
   "metadata": {},
   "outputs": [],
   "source": [
    "modules.append(Module(name=\"METADATA\", \n",
    "                      number=1, \n",
    "                      description=\"Enumerator data, time and date, location, GPS, consent, enumerator notes\",\n",
    "                      logo=\"metadata.svg\",\n",
    "                      category=\"METADATA\",\n",
    "                      module_type=\"CORE\",\n",
    "                      topics=[\"Date of interview\", \"Duration\", \"GPS\", \"Enumerator sex\"],\n",
    "                      sdgs=[],\n",
    "                      duration=4,\n",
    "                      languages=[\"EN\", \"FR\", \"ES\", \"HI\", \"AR\", \"SW\", \"KM\", \"RW\"]))"
   ]
  },
  {
   "cell_type": "code",
   "execution_count": null,
   "metadata": {},
   "outputs": [],
   "source": [
    "modules.append(Module(name=\"HOUSEHOLD DEMOGRAPHICS\",\n",
    "                      number=2,\n",
    "                      description=\"Name, sex, age, education, h/h population\",\n",
    "                      logo=\"household_demographics.svg\",\n",
    "                      category=\"DECISION MAKING\",\n",
    "                      module_type=\"CORE\",\n",
    "                      topics=[\"Household members\", \"Male adult equivalent members\", \"Marital status\",\n",
    "                              \"Education of head\", \"Age of head\", \"Sex of respondent\"],\n",
    "                      sdgs=[],\n",
    "                      duration=4,\n",
    "                      languages=[\"EN\", \"FR\", \"ES\", \"HI\", \"AR\", \"SW\", \"KM\", \"RW\"]))"
   ]
  },
  {
   "cell_type": "code",
   "execution_count": null,
   "metadata": {},
   "outputs": [],
   "source": [
    "modules.append(Module(name=\"LAND USE\",\n",
    "                      number=3,\n",
    "                      description=\"Tenure, cultivation, land area, slope, labour\",\n",
    "                      logo=\"land_use.svg\",\n",
    "                      category=\"ON FARM\",\n",
    "                      module_type=\"CORE\",\n",
    "                      topics=[\"Land area cultivated\", \"Land area owned\", \"If labour hired on farm\",\n",
    "                              \"Land slope perception\", \"Tree use\"],\n",
    "                      sdgs=[15],\n",
    "                      duration=5,\n",
    "                      languages=[\"EN\", \"FR\", \"ES\", \"HI\", \"AR\", \"SW\", \"KM\", \"RW\"]))"
   ]
  },
  {
   "cell_type": "code",
   "execution_count": null,
   "metadata": {},
   "outputs": [],
   "source": [
    "modules.append(Module(name=\"CROP PRODUCTION AND USE\",\n",
    "                      number=4,\n",
    "                      description=\"Crop types, planting seasons, yield, use of land, post-harvest, sales, residues, crop products, planning\",\n",
    "                      logo=\"crop_production_and_use.svg\",\n",
    "                      category=\"ON FARM\",\n",
    "                      module_type=\"CORE\",\n",
    "                      topics=[\"All field crops, vegetables and fruits grown in last year\", \n",
    "                              \"For most important crops: crop area, crop yield\", \n",
    "                              \"Farmer’s perception of harvest\", \"Proportion of crop consumed and sold\",\n",
    "                              \"Sale prices\", \"Use of crop residues\", \"Income\", \"Total Value of Activities\",\n",
    "                              \"Food Availability\"],\n",
    "                      sdgs=[15],\n",
    "                      duration=10,\n",
    "                      languages=[\"EN\", \"FR\", \"ES\", \"HI\", \"AR\", \"SW\", \"KM\", \"RW\"]))"
   ]
  },
  {
   "cell_type": "code",
   "execution_count": null,
   "metadata": {},
   "outputs": [],
   "source": [
    "modules.append(Module(name=\"AGRICULTURAL INPUTS AND MANAGEMENT\",\n",
    "                      number=5,\n",
    "                      description=\"Fertilisers, pesticides, improved seed, storage, irrigation, agroforestry, tillage\",\n",
    "                      logo=\"agricultural_inputs_and_management.svg\",\n",
    "                      category=\"ON FARM\",\n",
    "                      module_type=\"CORE\",\n",
    "                      topics=[\"Total amount and types of nitrogenous fertiliser used, and on which crops\",\n",
    "                              \"Use of manure, compost, pesticides, improved seed - per crop only, not total amount\",\n",
    "                              \"Soil tillage practices\", \"Irrigation crops, method, and months\",\n",
    "                              \"Crop storage method\"],\n",
    "                      sdgs=[2],\n",
    "                      duration=5,\n",
    "                      languages=[\"EN\", \"FR\", \"ES\", \"HI\", \"AR\", \"SW\", \"KM\", \"RW\"]))"
   ]
  },
  {
   "cell_type": "code",
   "execution_count": null,
   "metadata": {},
   "outputs": [],
   "source": [
    "modules.append(Module(name=\"LIVESTOCK\",\n",
    "                      number=6,\n",
    "                      description=\"Livestock types, numbers, grazing land, pens/stabling, use of animals, buying, selling, slaughtering, eating, medicine, dairy/egg/honey/wool\",\n",
    "                      logo=\"livestock.svg\",\n",
    "                      category=\"ON FARM\",\n",
    "                      module_type=\"CORE\",\n",
    "                      topics=[\"Heads of livestock species\", \"If improved/local breeds\",\n",
    "                              \"Number sold and sale price\", \"Use of meat, milk, eggs\",\n",
    "                              \"Use of medicinal inputs\", \"Income\", \"Total Value of Activities\",\n",
    "                              \"Food Availability\"],\n",
    "                      sdgs=[2],\n",
    "                      duration=10,\n",
    "                      languages=[\"EN\", \"FR\", \"ES\", \"HI\", \"AR\", \"SW\", \"KM\", \"RW\"]))"
   ]
  },
  {
   "cell_type": "code",
   "execution_count": null,
   "metadata": {},
   "outputs": [],
   "source": [
    "modules.append(Module(name=\"WILDFOODS\",\n",
    "                      number=7,\n",
    "                      description=\"Gathering, types, time of year, processing, sales\",\n",
    "                      logo=\"wildfoods.svg\",\n",
    "                      category=\"FOOD\",\n",
    "                      module_type=\"CORE\",\n",
    "                      topics=[\"Which months wildfoods collected\", \"Which foodstuffs\", \n",
    "                              \"Proportion consumed or sold\"],\n",
    "                      sdgs=[2, 15],\n",
    "                      duration=4,\n",
    "                      languages=[\"EN\", \"FR\", \"ES\", \"HI\", \"AR\", \"SW\", \"KM\", \"RW\"]))"
   ]
  },
  {
   "cell_type": "code",
   "execution_count": null,
   "metadata": {},
   "outputs": [],
   "source": [
    "modules.append(Module(name=\"FOOD SECURITY AND HUNGER\",\n",
    "                      number=8,\n",
    "                      description=\"Hunger months, HFIAS or FIES indicator\",\n",
    "                      logo=\"food_security_and_hunger.svg\",\n",
    "                      category=\"FOOD\",\n",
    "                      module_type=\"CORE\",\n",
    "                      topics=[\"Months of lean season\", \"Worst month, best month\", \"HFIAS or FIES\"],\n",
    "                      sdgs=[2],\n",
    "                      duration=4,\n",
    "                      languages=[\"EN\", \"FR\", \"ES\", \"HI\", \"AR\", \"SW\", \"KM\", \"RW\"]))"
   ]
  },
  {
   "cell_type": "code",
   "execution_count": null,
   "metadata": {},
   "outputs": [],
   "source": [
    "modules.append(Module(name=\"HOUSEHOLD DIETARY DIVERSITY\",\n",
    "                      number=9,\n",
    "                      description=\"HDDS score during lean and post-harvest seasons, and sourcing of foodstuffs\",\n",
    "                      logo=\"household_dietary_diversity.svg\",\n",
    "                      category=\"FOOD\",\n",
    "                      module_type=\"CORE\",\n",
    "                      topics=[\"Household Dietary Diversity Score, during lean season and good season\", \n",
    "                              \"Optional Individual 24 hour deitary diversity score\", \n",
    "                              \"Source of food groups during lean and good seasons\"],\n",
    "                      sdgs=[2, 5],\n",
    "                      duration=5,\n",
    "                      languages=[\"EN\", \"FR\", \"ES\", \"HI\", \"AR\", \"SW\", \"KM\", \"RW\"]))"
   ]
  },
  {
   "cell_type": "code",
   "execution_count": null,
   "metadata": {},
   "outputs": [],
   "source": [
    "modules.append(Module(name=\"OFF-FARM INCOME\",\n",
    "                      number=10,\n",
    "                      description=\"Sources of income, time of year, planning, spending\",\n",
    "                      logo=\"off_farm_income.svg\",\n",
    "                      category=\"POVERTY DYNAMICS\",\n",
    "                      module_type=\"CORE\",\n",
    "                      topics=[\"Incomes\", \"Total Value of Activities\", \"Food Availability\"],\n",
    "                      sdgs=[1],\n",
    "                      duration=7,\n",
    "                      languages=[\"EN\", \"FR\", \"ES\", \"HI\", \"AR\", \"SW\", \"KM\", \"RW\"]))"
   ]
  },
  {
   "cell_type": "code",
   "execution_count": null,
   "metadata": {},
   "outputs": [],
   "source": [
    "modules.append(Module(name=\"GENDERED CONTROL OF PRODUCE AND INCOMES\",\n",
    "                      number=11,\n",
    "                      description=\"Gendered and youth decision making over incomes and produce, at aggregate and commodity levels\",\n",
    "                      logo=\"gendered_control_of_produce_and_incomes.svg\",\n",
    "                      category=\"GENDER\",\n",
    "                      module_type=\"CORE\",\n",
    "                      topics=[\"Gendered and youth decision making over incomes and farm production\"],\n",
    "                      sdgs=[],\n",
    "                      duration=7,\n",
    "                      languages=[\"EN\", \"FR\", \"ES\", \"HI\", \"AR\", \"SW\", \"KM\", \"RW\"]))"
   ]
  },
  {
   "cell_type": "code",
   "execution_count": null,
   "metadata": {},
   "outputs": [],
   "source": [
    "modules.append(Module(name=\"CREDIT, AID, AND DEBTS\",\n",
    "                      number=12,\n",
    "                      description=\"Government/NGO assistance, support from friends, type of aid, access to credit\",\n",
    "                      logo=\"credit_aid_and_debts.svg\",\n",
    "                      category=\"POVERTY DYNAMICS\",\n",
    "                      module_type=\"CORE\",\n",
    "                      topics=[\"Aid received\", \"Gifts received\"],\n",
    "                      sdgs=[1],\n",
    "                      duration=4,\n",
    "                      languages=[\"EN\", \"FR\", \"ES\", \"HI\", \"AR\", \"SW\", \"KM\", \"RW\"]))"
   ]
  },
  {
   "cell_type": "code",
   "execution_count": null,
   "metadata": {},
   "outputs": [],
   "source": [
    "modules.append(Module(name=\"PROBABILITY OF POVERTY INDICATOR\",\n",
    "                      number=13,\n",
    "                      description=\"Asset-based rapid poverty indicator\",\n",
    "                      logo=\"probability_of_poverty_indicator.svg\",\n",
    "                      category=\"POVERTY DYNAMICS\",\n",
    "                      module_type=\"CORE\",\n",
    "                      topics=[\"Likelihood household is below poverty line\"],\n",
    "                      sdgs=[1],\n",
    "                      duration=4,\n",
    "                      languages=[\"EN\", \"FR\", \"ES\", \"HI\", \"AR\", \"SW\", \"KM\", \"RW\"]))"
   ]
  },
  {
   "cell_type": "code",
   "execution_count": null,
   "metadata": {},
   "outputs": [],
   "source": [
    "modules.append(Module(name=\"AGROFORESTRY\",\n",
    "                      number=14,\n",
    "                      description=\"Use of trees, quantity of trees used, species, management\",\n",
    "                      logo=\"agroforestry.svg\",\n",
    "                      category=\"TREES\",\n",
    "                      module_type=\"ADDITIONAL\",\n",
    "                      topics=[\"Use of trees\", \"Quantity of trees used\", \"Species\", \"Management\"],\n",
    "                      sdgs=[15, 2],\n",
    "                      duration=7,\n",
    "                      languages=[\"EN\"]))"
   ]
  },
  {
   "cell_type": "code",
   "execution_count": null,
   "metadata": {},
   "outputs": [],
   "source": [
    "modules.append(Module(name=\"LIVESTOCK FEEDING\",\n",
    "                      number=15,\n",
    "                      description=\"Type of feed, grazing, bought feeds\",\n",
    "                      logo=\"livestock_feeding.svg\",\n",
    "                      category=\"ON FARM\",\n",
    "                      module_type=\"ADDITIONAL\",\n",
    "                      topics=[\"Type of feed\", \"Grazing\", \"Purchased feeds\"],\n",
    "                      sdgs=[2],\n",
    "                      duration=3,\n",
    "                      languages=[\"EN\"]))"
   ]
  },
  {
   "cell_type": "code",
   "execution_count": null,
   "metadata": {},
   "outputs": [],
   "source": [
    "modules.append(Module(name=\"BUSHMEAT\",\n",
    "                      number=16,\n",
    "                      description=\"Hunting and trapping, species, and frequency\",\n",
    "                      logo=\"bushmeat.svg\",\n",
    "                      category=\"FOOD\",\n",
    "                      module_type=\"ADDITIONAL\",\n",
    "                      topics=[\"Hunting and trapping\", \"Species, and frequency\"],\n",
    "                      sdgs=[2],\n",
    "                      duration=7,\n",
    "                      languages=[\"EN\"]))"
   ]
  },
  {
   "cell_type": "code",
   "execution_count": null,
   "metadata": {},
   "outputs": [],
   "source": [
    "modules.append(Module(name=\"CATTLE DETAILED\",\n",
    "                      number=17,\n",
    "                      description=\"Herd structure, age, sex, breeding, milking, diseases and health treatments\",\n",
    "                      logo=\"cattle_detailed.svg\",\n",
    "                      category=\"ON FARM\",\n",
    "                      module_type=\"ADDITIONAL\",\n",
    "                      topics=[\"Herd structure\", \"Age\", \"Sex\", \"Breeding\", \"Milking\", \n",
    "                              \"Diseases and health treatments\"],\n",
    "                      sdgs=[2, 6],\n",
    "                      duration=15,\n",
    "                      languages=[\"EN\"]))"
   ]
  },
  {
   "cell_type": "code",
   "execution_count": null,
   "metadata": {},
   "outputs": [],
   "source": [
    "modules.append(Module(name=\"CHANGES ON FARM\",\n",
    "                      number=18,\n",
    "                      description=\"Changes over past few years: land, crop types and yields, inputs, livestock, sales, incomes, off farm work, reasons for changes\",\n",
    "                      logo=\"changes_on_farm.svg\",\n",
    "                      category=\"DECISION MAKING\",\n",
    "                      module_type=\"ADDITIONAL\",\n",
    "                      topics=[\"Changes over past few years\", \"Land\", \"Crop types and yields\", \n",
    "                              \"Inputs\", \"Livestock\", \"Sales\", \"Incomes\", \"Off farm work\",\n",
    "                              \"Reasons for changes\"],\n",
    "                      sdgs=[2, 5, 1],\n",
    "                      duration=7,\n",
    "                      languages=[\"EN\"]))"
   ]
  },
  {
   "cell_type": "code",
   "execution_count": null,
   "metadata": {},
   "outputs": [],
   "source": [
    "modules.append(Module(name=\"COPING STRATEGIES\",\n",
    "                      number=19,\n",
    "                      description=\"Coping strategy index (CSI), changes of food access over the year\",\n",
    "                      logo=\"coping_strategies.svg\",\n",
    "                      category=\"POVERTY DYNAMICS\",\n",
    "                      module_type=\"ADDITIONAL\",\n",
    "                      topics=[\"Coping strategy index (CSI)\", \"Changes of food access over the year\"],\n",
    "                      sdgs=[2, 1, 13],\n",
    "                      duration=5,\n",
    "                      languages=[\"EN\", \"FR\"]))"
   ]
  },
  {
   "cell_type": "code",
   "execution_count": null,
   "metadata": {},
   "outputs": [],
   "source": [
    "modules.append(Module(name=\"DISABILITY\",\n",
    "                      number=20,\n",
    "                      description=\"Quantification of disabled individuals in household (Washington Group questions)\",\n",
    "                      logo=\"disability.svg\",\n",
    "                      category=\"POVERTY DYNAMICS\",\n",
    "                      module_type=\"ADDITIONAL\",\n",
    "                      topics=[\"Quantification of disabled individuals in household (Washington Group questions)\"],\n",
    "                      sdgs=[1],\n",
    "                      duration=4,\n",
    "                      languages=[\"EN\"]))"
   ]
  },
  {
   "cell_type": "code",
   "execution_count": null,
   "metadata": {},
   "outputs": [],
   "source": [
    "modules.append(Module(name=\"FIES\",\n",
    "                      number=21,\n",
    "                      description=\"Food Insecurity Experience Scale (FIES)\",\n",
    "                      logo=\"fies.svg\",\n",
    "                      category=\"FOOD\",\n",
    "                      module_type=\"ADDITIONAL\",\n",
    "                      topics=[\"Food Insecurity Experience Scale\"],\n",
    "                      sdgs=[2, 1],\n",
    "                      duration=4,\n",
    "                      languages=[\"EN\", \"SW\"]))"
   ]
  },
  {
   "cell_type": "code",
   "execution_count": null,
   "metadata": {},
   "outputs": [],
   "source": [
    "modules.append(Module(name=\"HFIAS\",\n",
    "                      number=22,\n",
    "                      description=\"Household Food Insecurity of Access Scale (HFIAS)\",\n",
    "                      logo=\"hfias.svg\",\n",
    "                      category=\"FOOD\",\n",
    "                      module_type=\"ADDITIONAL\",\n",
    "                      topics=[\"Household Food Insecurity of Access Scale (HFIAS)\"],\n",
    "                      sdgs=[2, 1],\n",
    "                      duration=4,\n",
    "                      languages=[\"EN\", \"SW\"]))"
   ]
  },
  {
   "cell_type": "code",
   "execution_count": null,
   "metadata": {},
   "outputs": [],
   "source": [
    "modules.append(Module(name=\"MDD-W\",\n",
    "                      number=23,\n",
    "                      description=\"Minimum Dietary Diversity for Women (open recall or closed categories)\",\n",
    "                      logo=\"mddw.svg\",\n",
    "                      category=\"FOOD\",\n",
    "                      module_type=\"ADDITIONAL\",\n",
    "                      topics=[\"Minimum Dietary Diversity for Women (open recall or closed categories)\"],\n",
    "                      sdgs=[2],\n",
    "                      duration=4,\n",
    "                      languages=[\"EN\", \"SW\"]))"
   ]
  },
  {
   "cell_type": "code",
   "execution_count": null,
   "metadata": {},
   "outputs": [],
   "source": [
    "modules.append(Module(name=\"FINANCIAL SITUATION\",\n",
    "                      number=24,\n",
    "                      description=\"Self-identified purchasing power\",\n",
    "                      logo=\"financial_situation.svg\",\n",
    "                      category=\"POVERTY DYNAMICS\",\n",
    "                      module_type=\"ADDITIONAL\",\n",
    "                      topics=[\"Self-identified purchasing power\"],\n",
    "                      sdgs=[1, 5],\n",
    "                      duration=2,\n",
    "                      languages=[\"EN\", \"FR\"]))"
   ]
  },
  {
   "cell_type": "code",
   "execution_count": null,
   "metadata": {},
   "outputs": [],
   "source": [
    "modules.append(Module(name=\"FOOD ENVIRONMENTS\",\n",
    "                      number=25,\n",
    "                      description=\"Market access, packaged food\",\n",
    "                      logo=\"food_environments.svg\",\n",
    "                      category=\"FOOD\",\n",
    "                      module_type=\"ADDITIONAL\",\n",
    "                      topics=[\"Market access\", \"Packaged food\"],\n",
    "                      sdgs=[2, 1],\n",
    "                      duration=4,\n",
    "                      languages=[\"EN\", \"SW\"]))"
   ]
  },
  {
   "cell_type": "code",
   "execution_count": null,
   "metadata": {},
   "outputs": [],
   "source": [
    "modules.append(Module(name=\"INNOVATION\",\n",
    "                      number=26,\n",
    "                      description=\"Farm plans, adoption of new technologies, aspirations, life satisfaction\",\n",
    "                      logo=\"innovation.svg\",\n",
    "                      category=\"DECISION MAKING\",\n",
    "                      module_type=\"ADDITIONAL\",\n",
    "                      topics=[\"Farm plans\", \"Adoption of new technologies\", \"Aspirations\",\n",
    "                              \"Life satisfaction\"],\n",
    "                      sdgs=[1, 5],\n",
    "                      duration=4,\n",
    "                      languages=[\"EN\"]))"
   ]
  },
  {
   "cell_type": "code",
   "execution_count": null,
   "metadata": {},
   "outputs": [],
   "source": [
    "modules.append(Module(name=\"EXPENDITURES\",\n",
    "                      number=27,\n",
    "                      description=\"Sources of income, spending of income - family costs, farm costs, giving to others\",\n",
    "                      logo=\"expenditures.svg\",\n",
    "                      category=\"POVERTY DYNAMICS\",\n",
    "                      module_type=\"ADDITIONAL\",\n",
    "                      topics=[\"Sources of income\", \"Spending of income - family costs, farm costs, giving to others\"],\n",
    "                      sdgs=[1, 5],\n",
    "                      duration=4,\n",
    "                      languages=[\"EN\", \"FR\"]))"
   ]
  },
  {
   "cell_type": "code",
   "execution_count": null,
   "metadata": {},
   "outputs": [],
   "source": [
    "modules.append(Module(name=\"MEMBERSHIP OF GROUPS\",\n",
    "                      number=28,\n",
    "                      description=\"Farmer groups, credit unions, cooperatives, leadership roles\",\n",
    "                      logo=\"membership_of_groups.svg\",\n",
    "                      category=\"DECISION MAKING\",\n",
    "                      module_type=\"ADDITIONAL\",\n",
    "                      topics=[\"Farmer group\", \"Credit unions\", \"Cooperatives\", \"Leadership roles\"],\n",
    "                      sdgs=[1, 7],\n",
    "                      duration=4,\n",
    "                      languages=[\"EN\"]))"
   ]
  },
  {
   "cell_type": "code",
   "execution_count": null,
   "metadata": {},
   "outputs": [],
   "source": [
    "modules.append(Module(name=\"NRM PERCEPTION\",\n",
    "                      number=29,\n",
    "                      description=\"Change of experience relating to soil, water, weather, fauna, trees\",\n",
    "                      logo=\"nrm_perception.svg\",\n",
    "                      category=\"ON FARM\",\n",
    "                      module_type=\"ADDITIONAL\",\n",
    "                      topics=[\"Change of experience relating to soil, water, weather, fauna, trees\"],\n",
    "                      sdgs=[15],\n",
    "                      duration=4,\n",
    "                      languages=[\"EN\", \"KM\"]))"
   ]
  },
  {
   "cell_type": "code",
   "execution_count": null,
   "metadata": {},
   "outputs": [],
   "source": [
    "modules.append(Module(name=\"RELATIVE VULNERABILITY\",\n",
    "                      number=30,\n",
    "                      description=\"Vulnerability to shocks compared to neighbours\",\n",
    "                      logo=\"relative_vulnerability.svg\",\n",
    "                      category=\"POVERTY DYNAMICS\",\n",
    "                      module_type=\"ADDITIONAL\",\n",
    "                      topics=[\"Vulnerability to shocks compared to neighbours\"],\n",
    "                      sdgs=[13, 1],\n",
    "                      duration=5,\n",
    "                      languages=[\"EN\", \"KM\"]))"
   ]
  },
  {
   "cell_type": "code",
   "execution_count": null,
   "metadata": {},
   "outputs": [],
   "source": [
    "modules.append(Module(name=\"SLASH AND BURN\",\n",
    "                      number=31,\n",
    "                      description=\"Clearing land, change of use, fallow practices\",\n",
    "                      logo=\"slash_and_burn.svg\",\n",
    "                      category=\"TREES\",\n",
    "                      module_type=\"ADDITIONAL\",\n",
    "                      topics=[\"Clearing land, change of use, fallow practices\"],\n",
    "                      sdgs=[13, 15, 2],\n",
    "                      duration=4,\n",
    "                      languages=[\"EN\"]))"
   ]
  },
  {
   "cell_type": "code",
   "execution_count": null,
   "metadata": {},
   "outputs": [],
   "source": [
    "modules.append(Module(name=\"UPTAKE OF INTERVENTIONS\",\n",
    "                      number=32,\n",
    "                      description=\"New practices trialled and evaluated\",\n",
    "                      logo=\"uptake_of_interventions.svg\",\n",
    "                      category=\"DECISION MAKING\",\n",
    "                      module_type=\"ADDITIONAL\",\n",
    "                      topics=[\"New practices trialled and evaluated\"],\n",
    "                      sdgs=[2, 12],\n",
    "                      duration=10,\n",
    "                      languages=[\"EN\"]))"
   ]
  },
  {
   "cell_type": "code",
   "execution_count": null,
   "metadata": {},
   "outputs": [],
   "source": [
    "modules.append(Module(name=\"VALUE ORIENTATIONS\",\n",
    "                      number=33,\n",
    "                      description=\"Value orientations: self- benefit, community-benefit, innovative, conservative\",\n",
    "                      logo=\"value_orientations.svg\",\n",
    "                      category=\"DECISION MAKING\",\n",
    "                      module_type=\"ADDITIONAL\",\n",
    "                      topics=[\"Self-benefit\", \"Community-benefit\", \"Innovative\", \"Conservative\"],\n",
    "                      sdgs=[1, 7, 2],\n",
    "                      duration=4,\n",
    "                      languages=[\"EN\"]))"
   ]
  },
  {
   "cell_type": "code",
   "execution_count": null,
   "metadata": {},
   "outputs": [],
   "source": [
    "modules.append(Module(name=\"WASH\",\n",
    "                      number=34,\n",
    "                      description=\"Water source, access, storage, hand cleaning, sanitation\",\n",
    "                      logo=\"wash.svg\",\n",
    "                      category=\"POVERTY DYNAMICS\",\n",
    "                      module_type=\"ADDITIONAL\",\n",
    "                      topics=[\"Water source\", \"Access\", \"Storage\", \"Hand cleaning\", \"Sanitation\"],\n",
    "                      sdgs=[6],\n",
    "                      duration=4,\n",
    "                      languages=[\"EN\"]))"
   ]
  },
  {
   "cell_type": "code",
   "execution_count": null,
   "metadata": {},
   "outputs": [],
   "source": [
    "modules.append(Module(name=\"FOREST PRODUCTS\",\n",
    "                      number=35,\n",
    "                      description=\"Harvesting, processing, and use of Non-Timber Forest Products and Woody Forest Products\",\n",
    "                      logo=\"forect_products.svg\",\n",
    "                      category=\"TREES\",\n",
    "                      module_type=\"ADDITIONAL\",\n",
    "                      topics=[\"Harvesting, processing, and use of Non-Timber Forest Products and Woody Forest Products\"],\n",
    "                      sdgs=[2, 15],\n",
    "                      duration=7,\n",
    "                      languages=[\"EN\", \"FR\"]))"
   ]
  },
  {
   "cell_type": "code",
   "execution_count": null,
   "metadata": {},
   "outputs": [],
   "source": [
    "modules.append(Module(name=\"VOICE CHOICE CONTROL\",\n",
    "                      number=36,\n",
    "                      description=\"Gendered experiences of power and communication outside the home\",\n",
    "                      logo=\"voice_choice_control.svg\",\n",
    "                      category=\"GENDER\",\n",
    "                      module_type=\"ADDITIONAL\",\n",
    "                      topics=[\"Gendered experiences of power and communication outside the home\"],\n",
    "                      sdgs=[5],\n",
    "                      duration=5,\n",
    "                      languages=[\"EN\", \"FR\"]))"
   ]
  },
  {
   "cell_type": "code",
   "execution_count": null,
   "metadata": {},
   "outputs": [],
   "source": [
    "modules.append(Module(name=\"FOREST GOVERNANCE\",\n",
    "                      number=37,\n",
    "                      description=\"Community forest governance structures\",\n",
    "                      logo=\"forest_governance.svg\",\n",
    "                      category=\"TREES\",\n",
    "                      module_type=\"ADDITIONAL\",\n",
    "                      topics=[\"Community forest governance structures\"],\n",
    "                      sdgs=[15, 13],\n",
    "                      duration=8,\n",
    "                      languages=[\"EN\", \"FR\"]))"
   ]
  },
  {
   "cell_type": "code",
   "execution_count": null,
   "metadata": {},
   "outputs": [],
   "source": [
    "modules.append(Module(name=\"PLOT-LEVEL LAND USE AND BOUNDARIES\",\n",
    "                      number=38,\n",
    "                      description=\"GPS boundaries of plots, plot level land use and history\",\n",
    "                      logo=\"plot_level_land_use_and_boundaries.svg\",\n",
    "                      category=\"ON FARM\",\n",
    "                      module_type=\"ADDITIONAL\",\n",
    "                      topics=[\"GPS boundaries of plots\", \"Plot level land use and history\"],\n",
    "                      sdgs=[15],\n",
    "                      duration=60,\n",
    "                      languages=[\"EN\"]))"
   ]
  },
  {
   "cell_type": "code",
   "execution_count": null,
   "metadata": {},
   "outputs": [],
   "source": [
    "modules.append(Module(name=\"GENDER ATTITUDES\",\n",
    "                      number=39,\n",
    "                      description=\"Mobility, decision making, violence, care for others\",\n",
    "                      logo=\"gender_attitudes.svg\",\n",
    "                      category=\"GENDER\",\n",
    "                      module_type=\"ADDITIONAL\",\n",
    "                      topics=[\"Mobility\", \"Decision making\", \"Violence\", \"Care for others\"],\n",
    "                      sdgs=[16],\n",
    "                      duration=8,\n",
    "                      languages=[\"EN\"]))"
   ]
  },
  {
   "cell_type": "code",
   "execution_count": null,
   "metadata": {},
   "outputs": [],
   "source": [
    "modules.append(Module(name=\"GENDERED LABOUR AND TIME ALLOCATION\",\n",
    "                      number=40,\n",
    "                      description=\"24 hour time allocation, work allocation in farm and home\",\n",
    "                      logo=\"gendered_labour_and_time_allocation.svg\",\n",
    "                      category=\"GENDER\",\n",
    "                      module_type=\"ADDITIONAL\",\n",
    "                      topics=[\"24 hour time allocation\", \"Work allocation in farm and home\"],\n",
    "                      sdgs=[5],\n",
    "                      duration=8,\n",
    "                      languages=[\"EN\"]))"
   ]
  },
  {
   "cell_type": "code",
   "execution_count": null,
   "metadata": {},
   "outputs": [],
   "source": [
    "modules.append(Module(name=\"CROP PESTS\",\n",
    "                      number=41,\n",
    "                      description=\"Pictoral estimation of crop pests occurance and damage (focus on fall army worm)\",\n",
    "                      logo=\"crop_pests.svg\",\n",
    "                      category=\"ON FARM\",\n",
    "                      module_type=\"ADDITIONAL\",\n",
    "                      topics=[\"Pictoral estimation of crop pests occurance and damage (focus on fall army worm)\"],\n",
    "                      sdgs=[2, 13],\n",
    "                      duration=10,\n",
    "                      languages=[\"EN\", \"FR\"]))"
   ]
  },
  {
   "cell_type": "code",
   "execution_count": null,
   "metadata": {},
   "outputs": [],
   "source": [
    "modules.append(Module(name=\"SEED VARIETIES\",\n",
    "                      number=42,\n",
    "                      description=\"Uptake and use of improved crop seed varieties\",\n",
    "                      logo=\"seed_varieties.svg\",\n",
    "                      category=\"ON FARM\",\n",
    "                      module_type=\"ADDITIONAL\",\n",
    "                      topics=[\"Uptake and use of improved crop seed varieties\"],\n",
    "                      sdgs=[2, 15, 13],\n",
    "                      duration=5,\n",
    "                      languages=[\"EN\", \"ES\", \"HI\"]))"
   ]
  },
  {
   "cell_type": "code",
   "execution_count": null,
   "metadata": {},
   "outputs": [],
   "source": []
  }
 ],
 "metadata": {
  "kernelspec": {
   "display_name": "Python 3",
   "language": "python",
   "name": "python3"
  },
  "language_info": {
   "codemirror_mode": {
    "name": "ipython",
    "version": 3
   },
   "file_extension": ".py",
   "mimetype": "text/x-python",
   "name": "python",
   "nbconvert_exporter": "python",
   "pygments_lexer": "ipython3",
   "version": "3.7.8"
  }
 },
 "nbformat": 4,
 "nbformat_minor": 4
}
